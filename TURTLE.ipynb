{
 "cells": [
  {
   "attachments": {},
   "cell_type": "markdown",
   "id": "4c255522",
   "metadata": {},
   "source": [
    "**TURTLE**"
   ]
  },
  {
   "cell_type": "code",
   "execution_count": 1,
   "id": "e0d2c46f",
   "metadata": {},
   "outputs": [],
   "source": [
    "import turtle as t\n",
    "pen=t.Turtle()\n",
    "t.bgcolor('#9966cc')\n",
    "t.delay(8)\n",
    "pen.color('#ffe4e1')\n",
    "pen.begin_fill()\n",
    "pen.left(40)\n",
    "pen.forward(120)\n",
    "pen.circle(80,190)\n",
    "pen.right(100)\n",
    "pen.circle(80,180)\n",
    "pen.forward(160)\n",
    "pen.left(90)\n",
    "pen.forward(50)\n",
    "pen.setpos(-60,100)\n",
    "pen.end_fill()\n",
    "def txt():\n",
    "    pen.up()\n",
    "    pen.setpos(-60,100)\n",
    "    pen.color('green')\n",
    "    pen.write('I LOVE SAMEER',font=(\"comic sans MS\",16))\n",
    "    txt()\n",
    "    pen.end_fill()\n",
    "    t.exitonclick()"
   ]
  },
  {
   "attachments": {},
   "cell_type": "markdown",
   "id": "854da92b",
   "metadata": {},
   "source": [
    "**CRISMAS TREE**"
   ]
  },
  {
   "cell_type": "code",
   "execution_count": null,
   "id": "1bd0f67d",
   "metadata": {},
   "outputs": [],
   "source": [
    "import turtle\n",
    "t = turtle.Turtle()\n",
    "t.screen.bgcolor('black')\n",
    "t.pensize(2)\n",
    "t.color('green')\n",
    "t.left(90)\n",
    "t.backward(100)\n",
    "t.speed(200)\n",
    "t.shape('turtle')\n",
    "def tree(i):\n",
    "    if i<10:\n",
    "        return\n",
    "    else:\n",
    "        t.forward(i)\n",
    "        t.color('orange')\n",
    "        t.circle(2)\n",
    "        t.color('brown')\n",
    "        t.left(30)\n",
    "        tree(3*i/4)\n",
    "        t.right(60)\n",
    "        tree(3*i/4)\n",
    "        t.left(30)\n",
    "        t.backward(i)\n",
    "tree(100)\n",
    "turtle.done()"
   ]
  },
  {
   "attachments": {},
   "cell_type": "markdown",
   "id": "96c26c44",
   "metadata": {},
   "source": [
    "**APJ, FLAG,IRONMAN**"
   ]
  },
  {
   "cell_type": "code",
   "execution_count": 1,
   "id": "3cd65f7c",
   "metadata": {},
   "outputs": [
    {
     "name": "stdout",
     "output_type": "stream",
     "text": [
      "Collecting sketchpy\n",
      "  Using cached sketchpy-0.1.0-py3-none-any.whl (61 kB)\n",
      "Requirement already satisfied: opencv-python in c:\\users\\admin\\appdata\\local\\programs\\python\\python311\\lib\\site-packages (from sketchpy) (4.7.0.72)\n",
      "Collecting turtle==0.0.1 (from sketchpy)\n",
      "  Using cached turtle-0.0.1.tar.gz (10 kB)\n",
      "  Installing build dependencies: started\n",
      "  Installing build dependencies: finished with status 'done'\n",
      "  Getting requirements to build wheel: started\n",
      "  Getting requirements to build wheel: finished with status 'done'\n",
      "  Preparing metadata (pyproject.toml): started\n",
      "  Preparing metadata (pyproject.toml): finished with status 'done'\n",
      "Collecting wheel (from sketchpy)\n",
      "  Using cached wheel-0.40.0-py3-none-any.whl (64 kB)\n",
      "Requirement already satisfied: Pillow in c:\\users\\admin\\appdata\\local\\programs\\python\\python311\\lib\\site-packages (from sketchpy) (9.5.0)\n",
      "Collecting svg.path (from sketchpy)\n",
      "  Downloading svg.path-6.3-py2.py3-none-any.whl (16 kB)\n",
      "Collecting svgpathtools (from sketchpy)\n",
      "  Downloading svgpathtools-1.6.1-py2.py3-none-any.whl (67 kB)\n",
      "                                              0.0/67.4 kB ? eta -:--:--\n",
      "     ------------------------------------     61.4/67.4 kB 1.7 MB/s eta 0:00:01\n",
      "     ------------------------------------     61.4/67.4 kB 1.7 MB/s eta 0:00:01\n",
      "     ------------------------------------     61.4/67.4 kB 1.7 MB/s eta 0:00:01\n",
      "     ------------------------------------     61.4/67.4 kB 1.7 MB/s eta 0:00:01\n",
      "     ------------------------------------     61.4/67.4 kB 1.7 MB/s eta 0:00:01\n",
      "     ------------------------------------     61.4/67.4 kB 1.7 MB/s eta 0:00:01\n",
      "     ------------------------------------     61.4/67.4 kB 1.7 MB/s eta 0:00:01\n",
      "     ------------------------------------     61.4/67.4 kB 1.7 MB/s eta 0:00:01\n",
      "     ------------------------------------     61.4/67.4 kB 1.7 MB/s eta 0:00:01\n",
      "     ------------------------------------     61.4/67.4 kB 1.7 MB/s eta 0:00:01\n",
      "     ------------------------------------     61.4/67.4 kB 1.7 MB/s eta 0:00:01\n",
      "     ------------------------------------     61.4/67.4 kB 1.7 MB/s eta 0:00:01\n",
      "     ------------------------------------     61.4/67.4 kB 1.7 MB/s eta 0:00:01\n",
      "     ------------------------------------     61.4/67.4 kB 1.7 MB/s eta 0:00:01\n",
      "     ------------------------------------     61.4/67.4 kB 1.7 MB/s eta 0:00:01\n",
      "     ------------------------------------     61.4/67.4 kB 1.7 MB/s eta 0:00:01\n",
      "     ------------------------------------     61.4/67.4 kB 1.7 MB/s eta 0:00:01\n",
      "     ------------------------------------     61.4/67.4 kB 1.7 MB/s eta 0:00:01\n",
      "     ------------------------------------     61.4/67.4 kB 1.7 MB/s eta 0:00:01\n",
      "     ------------------------------------     61.4/67.4 kB 1.7 MB/s eta 0:00:01\n",
      "     ------------------------------------     61.4/67.4 kB 1.7 MB/s eta 0:00:01\n",
      "     ------------------------------------     61.4/67.4 kB 1.7 MB/s eta 0:00:01\n",
      "     --------------------------------------- 67.4/67.4 kB 52.3 kB/s eta 0:00:00\n",
      "Requirement already satisfied: tqdm in c:\\users\\admin\\appdata\\local\\programs\\python\\python311\\lib\\site-packages (from sketchpy) (4.65.0)\n",
      "Collecting PyYAML>=3.08 (from turtle==0.0.1->sketchpy)\n",
      "  Downloading PyYAML-6.0-cp311-cp311-win_amd64.whl (143 kB)\n",
      "                                              0.0/143.2 kB ? eta -:--:--\n",
      "     -----------                             41.0/143.2 kB 2.0 MB/s eta 0:00:01\n",
      "     --------------------------------       122.9/143.2 kB 1.2 MB/s eta 0:00:01\n",
      "     -----------------------------------    133.1/143.2 kB 1.1 MB/s eta 0:00:01\n",
      "     -----------------------------------    133.1/143.2 kB 1.1 MB/s eta 0:00:01\n",
      "     -----------------------------------    133.1/143.2 kB 1.1 MB/s eta 0:00:01\n",
      "     -----------------------------------    133.1/143.2 kB 1.1 MB/s eta 0:00:01\n",
      "     -----------------------------------    133.1/143.2 kB 1.1 MB/s eta 0:00:01\n",
      "     -----------------------------------    133.1/143.2 kB 1.1 MB/s eta 0:00:01\n",
      "     -----------------------------------    133.1/143.2 kB 1.1 MB/s eta 0:00:01\n",
      "     -----------------------------------    133.1/143.2 kB 1.1 MB/s eta 0:00:01\n",
      "     -----------------------------------    133.1/143.2 kB 1.1 MB/s eta 0:00:01\n",
      "     -----------------------------------    133.1/143.2 kB 1.1 MB/s eta 0:00:01\n",
      "     -----------------------------------    133.1/143.2 kB 1.1 MB/s eta 0:00:01\n",
      "     -----------------------------------    133.1/143.2 kB 1.1 MB/s eta 0:00:01\n",
      "     -----------------------------------    133.1/143.2 kB 1.1 MB/s eta 0:00:01\n",
      "     -----------------------------------    133.1/143.2 kB 1.1 MB/s eta 0:00:01\n",
      "     -----------------------------------    133.1/143.2 kB 1.1 MB/s eta 0:00:01\n",
      "     -----------------------------------    133.1/143.2 kB 1.1 MB/s eta 0:00:01\n",
      "     -----------------------------------    133.1/143.2 kB 1.1 MB/s eta 0:00:01\n",
      "     -----------------------------------    133.1/143.2 kB 1.1 MB/s eta 0:00:01\n",
      "     ------------------------------------ 143.2/143.2 kB 123.3 kB/s eta 0:00:00\n",
      "Requirement already satisfied: numpy>=1.21.2 in c:\\users\\admin\\appdata\\local\\programs\\python\\python311\\lib\\site-packages (from opencv-python->sketchpy) (1.24.3)\n",
      "Collecting svgwrite (from svgpathtools->sketchpy)\n",
      "  Downloading svgwrite-1.4.3-py3-none-any.whl (67 kB)\n",
      "                                              0.0/67.1 kB ? eta -:--:--\n",
      "     ---------------------------------------- 67.1/67.1 kB 1.8 MB/s eta 0:00:00\n",
      "Requirement already satisfied: scipy in c:\\users\\admin\\appdata\\local\\programs\\python\\python311\\lib\\site-packages (from svgpathtools->sketchpy) (1.10.1)\n",
      "Requirement already satisfied: colorama in c:\\users\\admin\\appdata\\roaming\\python\\python311\\site-packages (from tqdm->sketchpy) (0.4.6)\n",
      "Building wheels for collected packages: turtle\n",
      "  Building wheel for turtle (pyproject.toml): started\n",
      "  Building wheel for turtle (pyproject.toml): finished with status 'done'\n",
      "  Created wheel for turtle: filename=turtle-0.0.1-py3-none-any.whl size=26685 sha256=fde83069db715c406929cc34125c13693a676c857b9bc44300e7f5a92cf6ef53\n",
      "  Stored in directory: c:\\users\\admin\\appdata\\local\\pip\\cache\\wheels\\45\\c9\\a9\\aa2f50c91c5df92c9a4fb79017d765853d9a34df132d1a6f3e\n",
      "Successfully built turtle\n",
      "Installing collected packages: wheel, svgwrite, svg.path, PyYAML, turtle, svgpathtools, sketchpy\n",
      "Successfully installed PyYAML-6.0 sketchpy-0.1.0 svg.path-6.3 svgpathtools-1.6.1 svgwrite-1.4.3 turtle-0.0.1 wheel-0.40.0\n",
      "Note: you may need to restart the kernel to use updated packages.\n"
     ]
    }
   ],
   "source": [
    "pip install sketchpy"
   ]
  },
  {
   "cell_type": "code",
   "execution_count": 2,
   "id": "ec92df6b",
   "metadata": {},
   "outputs": [],
   "source": [
    "#pip install sketchpy\n",
    "from sketchpy import library as lib\n",
    "obj = lib.rdj()#flag\",\n",
    "obj.draw()"
   ]
  },
  {
   "cell_type": "code",
   "execution_count": 4,
   "id": "8b3f74d4",
   "metadata": {
    "scrolled": true
   },
   "outputs": [],
   "source": [
    "from sketchpy import library\n",
    "myObject = library.apj()\n",
    "myObject.draw()"
   ]
  },
  {
   "attachments": {},
   "cell_type": "markdown",
   "id": "f3172e61",
   "metadata": {},
   "source": [
    "**APPLE LOGO**"
   ]
  },
  {
   "cell_type": "code",
   "execution_count": null,
   "id": "e62d6911",
   "metadata": {},
   "outputs": [],
   "source": [
    "from turtle import *\n",
    "width(10)\n",
    "begin_fill()\n",
    "left(160)\n",
    "circle(100,100)\n",
    "circle(200,60)\n",
    "circle(40,90)\n",
    "circle(-40,100)\n",
    "circle(40,100)\n",
    "circle(200,30)\n",
    "left(90)\n",
    "circle(-70,150)\n",
    "left(120)\n",
    "circle(160,55)\n",
    "end_fill()\n",
    "right(110)\n",
    "up()\n",
    "forward(25)\n",
    "down()\n",
    "begin_fill()\n",
    "circle(-110,90)\n",
    "right(90)\n",
    "circle(-110,90)\n",
    "end_fill()"
   ]
  },
  {
   "attachments": {},
   "cell_type": "markdown",
   "id": "f256333f",
   "metadata": {},
   "source": [
    "**EMOJIS**"
   ]
  },
  {
   "cell_type": "code",
   "execution_count": null,
   "id": "59d6c82c",
   "metadata": {},
   "outputs": [],
   "source": [
    "print(\"\\U0001F600\")\n",
    "print(\"\\U0001F917\")\n",
    "print(\"\\U0001F62A\")\n",
    "print(\"\\U0001F637\")\n",
    "print(\"\\U0001F62B\")"
   ]
  },
  {
   "cell_type": "code",
   "execution_count": null,
   "id": "3ade4742",
   "metadata": {},
   "outputs": [],
   "source": [
    "#import pyautogui as auto\n",
    "#import time\n",
    "#while True:\n",
    "    #auto.write(\"you are online sameer?\")\n",
    "    #auto.press(\"enter\")\n",
    "    #time.sleep(1)"
   ]
  },
  {
   "attachments": {},
   "cell_type": "markdown",
   "id": "f97eca2a",
   "metadata": {},
   "source": [
    "**HEART**"
   ]
  },
  {
   "cell_type": "code",
   "execution_count": null,
   "id": "875e611b",
   "metadata": {},
   "outputs": [],
   "source": [
    "import math\n",
    "import turtle\n",
    "\n",
    "def xt(t):\n",
    "    return 16*math.sin(t)**3\n",
    "\n",
    "def yt(t):\n",
    "    return 16*math.cos(t)-5*\\\n",
    "math.cos(2*t)-2*\\\n",
    "math.cos(3*t)-\\\n",
    "math.cos(4*t)\n",
    "\n",
    "t= turtle.Turtle()\n",
    "t.speed(500)\n",
    "turtle.bgcolor('black')\n",
    "\n",
    "for i in range(2550):\n",
    "    t.goto((xt(i)*20, yt(i)*20))\n",
    "    t.pencolor('red')\n",
    "    t.goto(0,0)"
   ]
  },
  {
   "attachments": {},
   "cell_type": "markdown",
   "id": "f76c4086",
   "metadata": {},
   "source": [
    "**FLOWER**"
   ]
  },
  {
   "cell_type": "code",
   "execution_count": null,
   "id": "aa8b039c",
   "metadata": {},
   "outputs": [],
   "source": [
    "import turtle as tur\n",
    "import colorsys as cs\n",
    "\n",
    "tur.setup(700,700)\n",
    "tur.speed(0)\n",
    "tur.tracer(10)\n",
    "tur.width(2)\n",
    "tur.bgcolor(\"green\")\n",
    "\n",
    "for j in range(25):\n",
    "    for i in range(15):\n",
    "        tur.color(cs.hsv_to_rgb(i/15, j/25,1))\n",
    "        tur.right(90)\n",
    "        tur.circle(200-j*4,90)\n",
    "        tur.left(90)\n",
    "        tur.circle(200-j*4,90)\n",
    "        tur.right(100)\n",
    "        tur.circle(50,24)\n",
    "        \n",
    "tur.hideturtle()\n",
    "tur.done()"
   ]
  },
  {
   "cell_type": "code",
   "execution_count": null,
   "id": "2a9d192a",
   "metadata": {},
   "outputs": [],
   "source": []
  },
  {
   "cell_type": "code",
   "execution_count": null,
   "id": "5a678c10",
   "metadata": {},
   "outputs": [],
   "source": [
    "import time\n",
    "from random import randint\n",
    "\n",
    "for i in range(1,85):\n",
    "    print('')\n",
    "space = ''\n",
    "\n",
    "for i in range(1,1000):\n",
    "    count = randint(1,100)\n",
    "    while(count > 0):\n",
    "        space += ''\n",
    "        count-= 1\n",
    "        \n",
    "    if (i%10==0):\n",
    "        print(space + 'HAPPY NEW YEAR 2023🎉')\n",
    "    elif(i%9 == 0):\n",
    "        print(space + \"🎁\")\n",
    "    elif(i%5 == 0):\n",
    "        print(space + \"🎈\")\n",
    "    elif(i%8 == 0):\n",
    "        print(space + \"🎈\")\n",
    "    elif(i%7 == 0):\n",
    "        print(space + \"🧨\")\n",
    "    elif(i%6 == 0):\n",
    "        print(space + \"🎊\")\n",
    "    else:\n",
    "        print(space + \" 🥯\")\n",
    "    space = ''\n",
    "    time.sleep(0.2)\n",
    "    "
   ]
  },
  {
   "cell_type": "code",
   "execution_count": null,
   "id": "31fc2433",
   "metadata": {},
   "outputs": [],
   "source": [
    "from turtle import *\n",
    "from random import randint\n",
    "\n",
    "bgcolor('black')\n",
    "x =1\n",
    "speed(100)\n",
    "\n",
    "while x < 200:\n",
    "    r = randint(0,255)\n",
    "    g = randint(0,255)\n",
    "    b = randint(0,255) \n",
    "    \n",
    "    colormode(255)\n",
    "    pencolor(g,r,b)\n",
    "    fd(20 + x)"
   ]
  },
  {
   "cell_type": "code",
   "execution_count": null,
   "id": "b94546db",
   "metadata": {},
   "outputs": [],
   "source": [
    "from turtle import *\n",
    "import turtle as t \n",
    "\n",
    "def my_turtle():\n",
    "    sides = str(3)\n",
    "    loops = str(450)\n",
    "    pen = 1\n",
    "    \n",
    "    for i in range (int(loops)):\n",
    "        forward(i*2/int(sides) + i)\n",
    "        left(360/int(sides) + .350)\n",
    "        hideturtle() \n",
    "        pensize(pen) \n",
    "        speed(30) \n",
    "        left(90)\n",
    "        \n",
    "my_turtle()\n",
    "t.done() "
   ]
  }
 ],
 "metadata": {
  "kernelspec": {
   "display_name": "Python 3 (ipykernel)",
   "language": "python",
   "name": "python3"
  },
  "language_info": {
   "codemirror_mode": {
    "name": "ipython",
    "version": 3
   },
   "file_extension": ".py",
   "mimetype": "text/x-python",
   "name": "python",
   "nbconvert_exporter": "python",
   "pygments_lexer": "ipython3",
   "version": "3.11.3"
  },
  "widgets": {
   "application/vnd.jupyter.widget-state+json": {
    "state": {},
    "version_major": 2,
    "version_minor": 0
   }
  }
 },
 "nbformat": 4,
 "nbformat_minor": 5
}
